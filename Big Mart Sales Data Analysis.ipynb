{
 "cells": [
  {
   "cell_type": "markdown",
   "id": "164781d0",
   "metadata": {},
   "source": [
    "# Big Mart Sales Analysis"
   ]
  },
  {
   "cell_type": "markdown",
   "id": "3a8c8d31",
   "metadata": {},
   "source": [
    "In today’s world, Data Science finds a huge application in the field of Market analysis. Be it \n",
    "sales prices or the volatility of a crypto currency, prediction is the one thing that holds a\n",
    "position of paramount importance in the field of marketing and trading. In this brief project, \n",
    "we have downloaded a very popular dataset – Big Mart Sales from Kaggle and have tried to \n",
    "fit an appropriate Machine Learning model that can provide us with an estimated price given \n",
    "several features about the item. \n",
    "\n",
    "The model with the best R2 fit and the least Mean Squared Error is picked to be the one that \n",
    "will be applied to the dataset. We then tune the hyperparameters a little and come up with \n",
    "a working application ready model. "
   ]
  },
  {
   "cell_type": "markdown",
   "id": "9522e962",
   "metadata": {},
   "source": [
    "### Importing necessary libraries"
   ]
  },
  {
   "cell_type": "code",
   "execution_count": 15,
   "id": "d9268edf",
   "metadata": {},
   "outputs": [],
   "source": [
    "import pandas as pd\n",
    "from sklearn.compose import ColumnTransformer\n",
    "from sklearn.pipeline import Pipeline\n",
    "from sklearn.impute import SimpleImputer\n",
    "from sklearn.preprocessing import OneHotEncoder, StandardScaler\n",
    "from sklearn.ensemble import RandomForestRegressor\n",
    "from sklearn.model_selection import train_test_split\n",
    "from sklearn.metrics import mean_absolute_error\n",
    "from xgboost import XGBRegressor\n",
    "import matplotlib.pyplot as plt\n",
    "from sklearn.svm import SVR\n",
    "from sklearn.metrics import r2_score"
   ]
  },
  {
   "cell_type": "markdown",
   "id": "f088a98c",
   "metadata": {},
   "source": [
    "### Loading in the dataset"
   ]
  },
  {
   "cell_type": "markdown",
   "id": "f0af7f4f",
   "metadata": {},
   "source": [
    "The dataset consist of 12 columns as can be seen in the notebook ahead. "
   ]
  },
  {
   "cell_type": "code",
   "execution_count": 8,
   "id": "8d97c5b8",
   "metadata": {},
   "outputs": [
    {
     "data": {
      "text/html": [
       "<div>\n",
       "<style scoped>\n",
       "    .dataframe tbody tr th:only-of-type {\n",
       "        vertical-align: middle;\n",
       "    }\n",
       "\n",
       "    .dataframe tbody tr th {\n",
       "        vertical-align: top;\n",
       "    }\n",
       "\n",
       "    .dataframe thead th {\n",
       "        text-align: right;\n",
       "    }\n",
       "</style>\n",
       "<table border=\"1\" class=\"dataframe\">\n",
       "  <thead>\n",
       "    <tr style=\"text-align: right;\">\n",
       "      <th></th>\n",
       "      <th>Item_Identifier</th>\n",
       "      <th>Item_Weight</th>\n",
       "      <th>Item_Fat_Content</th>\n",
       "      <th>Item_Visibility</th>\n",
       "      <th>Item_Type</th>\n",
       "      <th>Item_MRP</th>\n",
       "      <th>Outlet_Identifier</th>\n",
       "      <th>Outlet_Establishment_Year</th>\n",
       "      <th>Outlet_Size</th>\n",
       "      <th>Outlet_Location_Type</th>\n",
       "      <th>Outlet_Type</th>\n",
       "      <th>Item_Outlet_Sales</th>\n",
       "    </tr>\n",
       "  </thead>\n",
       "  <tbody>\n",
       "    <tr>\n",
       "      <th>0</th>\n",
       "      <td>FDA15</td>\n",
       "      <td>9.30</td>\n",
       "      <td>Low Fat</td>\n",
       "      <td>0.016047</td>\n",
       "      <td>Dairy</td>\n",
       "      <td>249.8092</td>\n",
       "      <td>OUT049</td>\n",
       "      <td>1999</td>\n",
       "      <td>Medium</td>\n",
       "      <td>Tier 1</td>\n",
       "      <td>Supermarket Type1</td>\n",
       "      <td>3735.1380</td>\n",
       "    </tr>\n",
       "    <tr>\n",
       "      <th>1</th>\n",
       "      <td>DRC01</td>\n",
       "      <td>5.92</td>\n",
       "      <td>Regular</td>\n",
       "      <td>0.019278</td>\n",
       "      <td>Soft Drinks</td>\n",
       "      <td>48.2692</td>\n",
       "      <td>OUT018</td>\n",
       "      <td>2009</td>\n",
       "      <td>Medium</td>\n",
       "      <td>Tier 3</td>\n",
       "      <td>Supermarket Type2</td>\n",
       "      <td>443.4228</td>\n",
       "    </tr>\n",
       "    <tr>\n",
       "      <th>2</th>\n",
       "      <td>FDN15</td>\n",
       "      <td>17.50</td>\n",
       "      <td>Low Fat</td>\n",
       "      <td>0.016760</td>\n",
       "      <td>Meat</td>\n",
       "      <td>141.6180</td>\n",
       "      <td>OUT049</td>\n",
       "      <td>1999</td>\n",
       "      <td>Medium</td>\n",
       "      <td>Tier 1</td>\n",
       "      <td>Supermarket Type1</td>\n",
       "      <td>2097.2700</td>\n",
       "    </tr>\n",
       "    <tr>\n",
       "      <th>3</th>\n",
       "      <td>FDX07</td>\n",
       "      <td>19.20</td>\n",
       "      <td>Regular</td>\n",
       "      <td>0.000000</td>\n",
       "      <td>Fruits and Vegetables</td>\n",
       "      <td>182.0950</td>\n",
       "      <td>OUT010</td>\n",
       "      <td>1998</td>\n",
       "      <td>NaN</td>\n",
       "      <td>Tier 3</td>\n",
       "      <td>Grocery Store</td>\n",
       "      <td>732.3800</td>\n",
       "    </tr>\n",
       "    <tr>\n",
       "      <th>4</th>\n",
       "      <td>NCD19</td>\n",
       "      <td>8.93</td>\n",
       "      <td>Low Fat</td>\n",
       "      <td>0.000000</td>\n",
       "      <td>Household</td>\n",
       "      <td>53.8614</td>\n",
       "      <td>OUT013</td>\n",
       "      <td>1987</td>\n",
       "      <td>High</td>\n",
       "      <td>Tier 3</td>\n",
       "      <td>Supermarket Type1</td>\n",
       "      <td>994.7052</td>\n",
       "    </tr>\n",
       "  </tbody>\n",
       "</table>\n",
       "</div>"
      ],
      "text/plain": [
       "  Item_Identifier  Item_Weight Item_Fat_Content  Item_Visibility  \\\n",
       "0           FDA15         9.30          Low Fat         0.016047   \n",
       "1           DRC01         5.92          Regular         0.019278   \n",
       "2           FDN15        17.50          Low Fat         0.016760   \n",
       "3           FDX07        19.20          Regular         0.000000   \n",
       "4           NCD19         8.93          Low Fat         0.000000   \n",
       "\n",
       "               Item_Type  Item_MRP Outlet_Identifier  \\\n",
       "0                  Dairy  249.8092            OUT049   \n",
       "1            Soft Drinks   48.2692            OUT018   \n",
       "2                   Meat  141.6180            OUT049   \n",
       "3  Fruits and Vegetables  182.0950            OUT010   \n",
       "4              Household   53.8614            OUT013   \n",
       "\n",
       "   Outlet_Establishment_Year Outlet_Size Outlet_Location_Type  \\\n",
       "0                       1999      Medium               Tier 1   \n",
       "1                       2009      Medium               Tier 3   \n",
       "2                       1999      Medium               Tier 1   \n",
       "3                       1998         NaN               Tier 3   \n",
       "4                       1987        High               Tier 3   \n",
       "\n",
       "         Outlet_Type  Item_Outlet_Sales  \n",
       "0  Supermarket Type1          3735.1380  \n",
       "1  Supermarket Type2           443.4228  \n",
       "2  Supermarket Type1          2097.2700  \n",
       "3      Grocery Store           732.3800  \n",
       "4  Supermarket Type1           994.7052  "
      ]
     },
     "execution_count": 8,
     "metadata": {},
     "output_type": "execute_result"
    }
   ],
   "source": [
    "train = pd.read_csv(\"train.csv\")\n",
    "\n",
    "train.head()"
   ]
  },
  {
   "cell_type": "markdown",
   "id": "dbd9d491",
   "metadata": {},
   "source": [
    "### Splitting the dataset into test and train"
   ]
  },
  {
   "cell_type": "markdown",
   "id": "1ff1d516",
   "metadata": {},
   "source": [
    "We now split the dataset into training and test set respectively in the ratio 70:30."
   ]
  },
  {
   "cell_type": "code",
   "execution_count": 9,
   "id": "78b34151",
   "metadata": {},
   "outputs": [],
   "source": [
    "train_trim = train.drop(columns = [\"Item_Identifier\"])\n",
    "\n",
    "X = train_trim.drop(columns = [\"Item_Outlet_Sales\"])\n",
    "y = train.Item_Outlet_Sales"
   ]
  },
  {
   "cell_type": "markdown",
   "id": "6da07ebd",
   "metadata": {},
   "source": [
    "### Data Preprocessing"
   ]
  },
  {
   "cell_type": "markdown",
   "id": "d55f1489",
   "metadata": {},
   "source": [
    "The dataset as can be seen contains some categorical and numerical columns. Imputing the missing values in the numerical columns and encoding the categorical columns becomes necessary to make the data into machine readable format. We will employ the concept of pipelining to achieve the following two tasks.\n",
    "\n",
    "The Exploratory Data Analysis for the task has been done and shown in the project in a seperate folder. I have used R for the data visualization task. Interested people can refer to this in the folder 'EDA' provided seperately in the repository."
   ]
  },
  {
   "cell_type": "code",
   "execution_count": 10,
   "id": "395fedfb",
   "metadata": {},
   "outputs": [],
   "source": [
    "#Segregate the columns into numerical and categorical respectively\n",
    "num_cols = [i for i in X.columns if X[i].dtype in ['int64', 'float64']]\n",
    "categorical_cols = [i for i in X.columns if X[i].dtype == 'object']\n",
    "\n",
    "#Make pipelines for processing numerical and categorical columns alike\n",
    "numerical_transformer = Pipeline(steps = [\n",
    " ('imputer', SimpleImputer(strategy = 'median')),\n",
    " ('normalizer', StandardScaler())\n",
    " ])\n",
    "\n",
    "categorical_transformer = Pipeline(steps = [\n",
    " ('imputer', SimpleImputer(strategy = 'most_frequent')),\n",
    " ('one-hot', OneHotEncoder(handle_unknown = 'ignore'))\n",
    " ])\n",
    "\n",
    "#Finally, combine them into a single instance of ColumnTransformer\n",
    "preprocessor = ColumnTransformer(\n",
    " transformers = [\n",
    " ('num', numerical_transformer, num_cols),\n",
    " ('cat', categorical_transformer, categorical_cols)\n",
    " ])"
   ]
  },
  {
   "cell_type": "markdown",
   "id": "1902defe",
   "metadata": {},
   "source": [
    "# Model fitting and evaluation"
   ]
  },
  {
   "cell_type": "markdown",
   "id": "1d4af2b2",
   "metadata": {},
   "source": [
    "### Random Forest"
   ]
  },
  {
   "cell_type": "markdown",
   "id": "81af3d04",
   "metadata": {},
   "source": [
    "Random forest is a Supervised Machine Learning Algorithm that is used \n",
    "widely in Classification and Regression problems. It builds decision trees \n",
    "on different samples and takes their majority vote for classification and \n",
    "average in case of regression. One of the most important features of the \n",
    "Random Forest Algorithm is that it can handle the data set \n",
    "containing continuous variables as in the case of regression \n",
    "and categorical variables as in the case of classification. It performs better \n",
    "in case of classification problems.\n",
    "\n",
    "The model we have employed here will consist of 2000 weak learners (given by the hyperparameter n_estimator). "
   ]
  },
  {
   "cell_type": "code",
   "execution_count": 11,
   "id": "b3206661",
   "metadata": {},
   "outputs": [],
   "source": [
    "model_rf = RandomForestRegressor(n_estimators = 2000)\n",
    "reg_rf = Pipeline(steps = [('preprocesor', preprocessor),\n",
    " ('model', model_rf)\n",
    " ])\n",
    "\n",
    "reg_rf.fit(X_train, y_train)\n",
    "pred_rf = reg_rf.predict(X_valid)"
   ]
  },
  {
   "cell_type": "markdown",
   "id": "367b96c1",
   "metadata": {},
   "source": [
    "### Extreme Gradient Boosting (XGBoost)"
   ]
  },
  {
   "cell_type": "markdown",
   "id": "29415bdd",
   "metadata": {},
   "source": [
    "Gradient boosting refers to a class of ensemble machine learning \n",
    "algorithms that can be used for classification or regression predictive \n",
    "modelling problems.\n",
    "Ensembles are constructed from decision tree models. Trees are added \n",
    "one at a time to the ensemble and fit to correct the prediction errors made \n",
    "by prior models. This is a type of ensemble machine learning model \n",
    "referred to as boosting.\n",
    "\n",
    "We have taken the number of weak learners to be 2000 in this case with a learning rate of 0.0015625. The hyper parameter tuning was done by iterating over a range of values for our learning rate and taking the one which gave the least error or the best accuracy as the decided learning_rate."
   ]
  },
  {
   "cell_type": "code",
   "execution_count": 12,
   "id": "afa6513b",
   "metadata": {},
   "outputs": [],
   "source": [
    "model_xgb = XGBRegressor(n_estimators = 2000, learning_rate = 0.0015625)\n",
    "reg_xgb = Pipeline(steps = [('preprocessor', preprocessor),\n",
    " ('model_xgb', model_xgb)\n",
    " ]\n",
    " )\n",
    "reg_xgb.fit(X_train, y_train)\n",
    "pred_xgb = reg_xgb.predict(X_valid)"
   ]
  },
  {
   "cell_type": "markdown",
   "id": "7b398e7e",
   "metadata": {},
   "source": [
    "Choosing the best value for n_estimator"
   ]
  },
  {
   "attachments": {
    "image.png": {
     "image/png": "[encoded data removed]"
    }
   },
   "cell_type": "markdown",
   "id": "727519e8",
   "metadata": {},
   "source": [
    "![image.png](attachment:image.png)"
   ]
  },
  {
   "cell_type": "markdown",
   "id": "b729bc01",
   "metadata": {},
   "source": [
    "Choosing the best value for learning_rate"
   ]
  },
  {
   "attachments": {
    "image.png": {
     "image/png": "[encoded data removed]"
    }
   },
   "cell_type": "markdown",
   "id": "e9ecfaff",
   "metadata": {},
   "source": [
    "![image.png](attachment:image.png)"
   ]
  },
  {
   "cell_type": "markdown",
   "id": "1e1f4a7a",
   "metadata": {},
   "source": [
    "### Support Vector Machines"
   ]
  },
  {
   "cell_type": "markdown",
   "id": "7b9c388b",
   "metadata": {},
   "source": [
    "Support Vector Machine or we can say SVM is one of the most \n",
    "popular Supervised Learning algorithms, which is basically used for \n",
    "Classification as well as Regression problems. However, mainly, it is used \n",
    "for Classification problems in Machine Learning.\n",
    "The main goal of the SVM algorithm is to create the best line or decision \n",
    "boundary that can divide n-dimensional space into classes so that we can \n",
    "easily put the new data point in the correct category in the future. This best \n",
    "decision boundary is called a hyperplane.\n",
    "SVM chooses the most extreme points/vectors that does helps in creating \n",
    "the hyperplane. These extreme cases are called/known to be support \n",
    "vectors, and hence algorithm is termed as Support Vector Machine.\n",
    "We have used two kernels here in our project – <b>\n",
    "    \n",
    "    • Radial Basis Function - Radial Basis Kernel is a kernel function \n",
    "    that is used in machine learning to find a non-linear classifier or \n",
    "    regression line.\n",
    "    \n",
    "    • Linear - Linear Kernel is used when the data is Linearly separable, \n",
    "    that is, it can be separated using a single Line. It is one of the most \n",
    "    common kernels to be used. It is mostly used when there are a \n",
    "    large number of Features in a particular Data Set."
   ]
  },
  {
   "cell_type": "code",
   "execution_count": 13,
   "id": "9aa99ff4",
   "metadata": {},
   "outputs": [],
   "source": [
    "#Linear kernel\n",
    "model_svm = SVR(kernel = 'linear', gamma = 'scale')\n",
    "reg_svm_linear = Pipeline(steps = [('preprocessor', preprocessor),\n",
    " ('model_svm', model_svm)\n",
    " ])\n",
    "reg_svm_linear.fit(X_train, y_train)\n",
    "pred_svml = reg_svm_linear.predict(X_valid)\n",
    "\n",
    "#RBF kernel\n",
    "model_svmr = SVR(kernel = 'rbf', gamma = 'scale')\n",
    "reg_svm_rbf = Pipeline(steps = [('preprocessor', preprocessor),\n",
    " ('model_svmr', model_svmr)\n",
    " ])\n",
    "reg_svm_rbf.fit(X_train, y_train)\n",
    "pred_svmr = reg_svm_rbf.predict(X_valid)"
   ]
  },
  {
   "cell_type": "markdown",
   "id": "82078d69",
   "metadata": {},
   "source": [
    "Now, we will compare which of our model performed best. Mean Squared Error is taken as the metric for comparison here."
   ]
  },
  {
   "cell_type": "code",
   "execution_count": 14,
   "id": "1bc46e04",
   "metadata": {},
   "outputs": [
    {
     "data": {
      "text/plain": [
       "<BarContainer object of 4 artists>"
      ]
     },
     "execution_count": 14,
     "metadata": {},
     "output_type": "execute_result"
    },
    {
     "data": {
      "image/png": "[encoded data removed]",
      "text/plain": [
       "<Figure size 1224x864 with 1 Axes>"
      ]
     },
     "metadata": {
      "needs_background": "light"
     },
     "output_type": "display_data"
    }
   ],
   "source": [
    "#Stre all the values in a dictionary\n",
    "dic = {\n",
    " \"XGB\" : mean_absolute_error(y_valid, pred_xgb),\n",
    " \"RF\" : mean_absolute_error(y_valid, pred_rf),\n",
    " \"SVM_Linear\" : mean_absolute_error(y_valid, pred_svml),\n",
    " \"SVM_rbf\" : mean_absolute_error(y_valid, pred_svmr)\n",
    " }\n",
    "\n",
    "#Bar plot to compare the performance\n",
    "plt.figure(figsize = (17,12))\n",
    "plt.title(\"Performance of various machine learning algorithms on the given dataset \")\n",
    "plt.xlabel(\"Algorithms ->\")\n",
    "plt.ylabel(\"Mean Squared Error ->\")\n",
    "plt.bar(dic.keys(), dic.values(), width = 0.4)"
   ]
  },
  {
   "cell_type": "markdown",
   "id": "8b11339e",
   "metadata": {},
   "source": [
    "Let's compare the R2 score of each model with each other"
   ]
  },
  {
   "cell_type": "code",
   "execution_count": 17,
   "id": "55df75a0",
   "metadata": {},
   "outputs": [
    {
     "data": {
      "text/plain": [
       "<BarContainer object of 4 artists>"
      ]
     },
     "execution_count": 17,
     "metadata": {},
     "output_type": "execute_result"
    },
    {
     "data": {
      "image/png": "[encoded data removed]",
      "text/plain": [
       "<Figure size 1224x864 with 1 Axes>"
      ]
     },
     "metadata": {
      "needs_background": "light"
     },
     "output_type": "display_data"
    }
   ],
   "source": [
    "#Stre all the values in a dictionary\n",
    "dic = {\n",
    " \"XGB\" : r2_score(y_valid, pred_xgb),\n",
    " \"RF\" : r2_score(y_valid, pred_rf),\n",
    " \"SVM_Linear\" : r2_score(y_valid, pred_svml),\n",
    " \"SVM_rbf\" : r2_score(y_valid, pred_svmr)\n",
    " }\n",
    "\n",
    "#Bar plot to compare the performance\n",
    "plt.figure(figsize = (17,12))\n",
    "plt.title(\"Performance of various machine learning algorithms on the given dataset \")\n",
    "plt.xlabel(\"Algorithms ->\")\n",
    "plt.ylabel(\"R2 Score ->\")\n",
    "plt.bar(dic.keys(), dic.values(), width = 0.4)"
   ]
  },
  {
   "cell_type": "markdown",
   "id": "db218c36",
   "metadata": {},
   "source": [
    "# Conclusion"
   ]
  },
  {
   "cell_type": "markdown",
   "id": "4276b6a8",
   "metadata": {},
   "source": [
    "We see that the XGBoost Regressor performed best on our dataset, with the lowest Mean Squared error of around 800. Not surprisingly, it had the highest R2 score too, indicating that it fit our model the best. "
   ]
  }
 ],
 "metadata": {
  "kernelspec": {
   "display_name": "Python 3 (ipykernel)",
   "language": "python",
   "name": "python3"
  },
  "language_info": {
   "codemirror_mode": {
    "name": "ipython",
    "version": 3
   },
   "file_extension": ".py",
   "mimetype": "text/x-python",
   "name": "python",
   "nbconvert_exporter": "python",
   "pygments_lexer": "ipython3",
   "version": "3.9.7"
  }
 },
 "nbformat": 4,
 "nbformat_minor": 5
}
